{
  "cells": [
    {
      "cell_type": "code",
      "execution_count": null,
      "id": "974786d1",
      "metadata": {
        "id": "974786d1"
      },
      "outputs": [],
      "source": [
        "import numpy as np\n",
        "import pandas as pd\n",
        "import matplotlib.pyplot as plt\n",
        "import apyori as apriori\n"
      ]
    },
    {
      "cell_type": "code",
      "execution_count": null,
      "id": "18ddf4f0",
      "metadata": {
        "id": "18ddf4f0"
      },
      "outputs": [],
      "source": [
        "df = pd.read_csv('CanteenDataSet.csv')"
      ]
    },
    {
      "cell_type": "code",
      "execution_count": null,
      "id": "7af52f15",
      "metadata": {
        "id": "7af52f15",
        "outputId": "aabacc3b-21e0-462d-e2a6-815959b28356"
      },
      "outputs": [
        {
          "data": {
            "text/html": [
              "<div>\n",
              "<style scoped>\n",
              "    .dataframe tbody tr th:only-of-type {\n",
              "        vertical-align: middle;\n",
              "    }\n",
              "\n",
              "    .dataframe tbody tr th {\n",
              "        vertical-align: top;\n",
              "    }\n",
              "\n",
              "    .dataframe thead th {\n",
              "        text-align: right;\n",
              "    }\n",
              "</style>\n",
              "<table border=\"1\" class=\"dataframe\">\n",
              "  <thead>\n",
              "    <tr style=\"text-align: right;\">\n",
              "      <th></th>\n",
              "      <th>Tea, Samosa, Sandwich</th>\n",
              "    </tr>\n",
              "  </thead>\n",
              "  <tbody>\n",
              "    <tr>\n",
              "      <th>0</th>\n",
              "      <td>Samosa, Tea, Sandwich, Noodles</td>\n",
              "    </tr>\n",
              "    <tr>\n",
              "      <th>1</th>\n",
              "      <td>Samosa, Cold Coffee, French Fries</td>\n",
              "    </tr>\n",
              "    <tr>\n",
              "      <th>2</th>\n",
              "      <td>Pizza, Maggie,Samosa,Tea</td>\n",
              "    </tr>\n",
              "    <tr>\n",
              "      <th>3</th>\n",
              "      <td>Maggie,Cold Coffee,Sandwich</td>\n",
              "    </tr>\n",
              "    <tr>\n",
              "      <th>4</th>\n",
              "      <td>Samosa,Cold Coffee,French Fries</td>\n",
              "    </tr>\n",
              "  </tbody>\n",
              "</table>\n",
              "</div>"
            ],
            "text/plain": [
              "               Tea, Samosa, Sandwich\n",
              "0     Samosa, Tea, Sandwich, Noodles\n",
              "1  Samosa, Cold Coffee, French Fries\n",
              "2           Pizza, Maggie,Samosa,Tea\n",
              "3        Maggie,Cold Coffee,Sandwich\n",
              "4    Samosa,Cold Coffee,French Fries"
            ]
          },
          "execution_count": 3,
          "metadata": {},
          "output_type": "execute_result"
        }
      ],
      "source": [
        "df.head()"
      ]
    },
    {
      "cell_type": "code",
      "execution_count": null,
      "id": "428a49ee",
      "metadata": {
        "id": "428a49ee"
      },
      "outputs": [],
      "source": [
        "df.rename(columns = {'Tea, Samosa, Sandwich':'Items'} , inplace = True)"
      ]
    },
    {
      "cell_type": "code",
      "execution_count": null,
      "id": "a8357a34",
      "metadata": {
        "id": "a8357a34",
        "outputId": "e88b514d-97fa-49b4-c4b0-ee4897abeb11"
      },
      "outputs": [
        {
          "data": {
            "text/html": [
              "<div>\n",
              "<style scoped>\n",
              "    .dataframe tbody tr th:only-of-type {\n",
              "        vertical-align: middle;\n",
              "    }\n",
              "\n",
              "    .dataframe tbody tr th {\n",
              "        vertical-align: top;\n",
              "    }\n",
              "\n",
              "    .dataframe thead th {\n",
              "        text-align: right;\n",
              "    }\n",
              "</style>\n",
              "<table border=\"1\" class=\"dataframe\">\n",
              "  <thead>\n",
              "    <tr style=\"text-align: right;\">\n",
              "      <th></th>\n",
              "      <th>Items</th>\n",
              "    </tr>\n",
              "  </thead>\n",
              "  <tbody>\n",
              "    <tr>\n",
              "      <th>0</th>\n",
              "      <td>Samosa, Tea, Sandwich, Noodles</td>\n",
              "    </tr>\n",
              "    <tr>\n",
              "      <th>1</th>\n",
              "      <td>Samosa, Cold Coffee, French Fries</td>\n",
              "    </tr>\n",
              "    <tr>\n",
              "      <th>2</th>\n",
              "      <td>Pizza, Maggie,Samosa,Tea</td>\n",
              "    </tr>\n",
              "    <tr>\n",
              "      <th>3</th>\n",
              "      <td>Maggie,Cold Coffee,Sandwich</td>\n",
              "    </tr>\n",
              "    <tr>\n",
              "      <th>4</th>\n",
              "      <td>Samosa,Cold Coffee,French Fries</td>\n",
              "    </tr>\n",
              "  </tbody>\n",
              "</table>\n",
              "</div>"
            ],
            "text/plain": [
              "                               Items\n",
              "0     Samosa, Tea, Sandwich, Noodles\n",
              "1  Samosa, Cold Coffee, French Fries\n",
              "2           Pizza, Maggie,Samosa,Tea\n",
              "3        Maggie,Cold Coffee,Sandwich\n",
              "4    Samosa,Cold Coffee,French Fries"
            ]
          },
          "execution_count": 5,
          "metadata": {},
          "output_type": "execute_result"
        }
      ],
      "source": [
        "df.head()"
      ]
    },
    {
      "cell_type": "code",
      "execution_count": null,
      "id": "1d1dca61",
      "metadata": {
        "id": "1d1dca61",
        "outputId": "f1a1d69b-5ae8-420a-e4fd-c66921f3fca1"
      },
      "outputs": [
        {
          "data": {
            "text/plain": [
              "0            [Samosa,  Tea,  Sandwich,  Noodles]\n",
              "1          [Samosa,  Cold Coffee,  French Fries]\n",
              "2                  [Pizza,  Maggie, Samosa, Tea]\n",
              "3                [Maggie, Cold Coffee, Sandwich]\n",
              "4            [Samosa, Cold Coffee, French Fries]\n",
              "5                 [Maggie, Cold Coffee, Noodles]\n",
              "6        [Maggie, Samosa, Cold Coffee, Sandwich]\n",
              "7           [Pizza, Maggie, Samosa, Cold Coffee]\n",
              "8                                  [Samosa, Tea]\n",
              "9     [Black Tea, Manchurian, Sandwich, Noodles]\n",
              "10    [Black Tea, Manchurian, Sandwich, Noodles]\n",
              "11       [Black Tea, Fried Maggie, French Fries]\n",
              "12               [Samosa, Black Tea, Manchurian]\n",
              "13              [Samosa, Fried Maggie, Sandwich]\n",
              "14           [Black Tea, Fried Maggie, Sandwich]\n",
              "15          [Samosa, Fried Maggie, French Fries]\n",
              "16             [Samosa, Black Tea, Fried Maggie]\n",
              "17             [Samosa, Black Tea, Fried Maggie]\n",
              "18        [Cold Coffee, Tea, Black Tea, Noodles]\n",
              "Name: Items, dtype: object"
            ]
          },
          "execution_count": 6,
          "metadata": {},
          "output_type": "execute_result"
        }
      ],
      "source": [
        "df['Items'].str.split(\",\")"
      ]
    },
    {
      "cell_type": "code",
      "execution_count": null,
      "id": "ec9c61ca",
      "metadata": {
        "id": "ec9c61ca"
      },
      "outputs": [],
      "source": [
        "df= df['Items'].str.split(\",\", expand= True)"
      ]
    },
    {
      "cell_type": "code",
      "execution_count": null,
      "id": "69cfba33",
      "metadata": {
        "id": "69cfba33"
      },
      "outputs": [],
      "source": [
        "df.rename(columns={0: 'Item1', 1:'Item2', 2:'Item3', 3:'Item4'}, inplace = True)"
      ]
    },
    {
      "cell_type": "code",
      "execution_count": null,
      "id": "93519325",
      "metadata": {
        "id": "93519325",
        "outputId": "a02ee8da-3caf-4571-8191-1371e2504b17"
      },
      "outputs": [
        {
          "data": {
            "text/html": [
              "<div>\n",
              "<style scoped>\n",
              "    .dataframe tbody tr th:only-of-type {\n",
              "        vertical-align: middle;\n",
              "    }\n",
              "\n",
              "    .dataframe tbody tr th {\n",
              "        vertical-align: top;\n",
              "    }\n",
              "\n",
              "    .dataframe thead th {\n",
              "        text-align: right;\n",
              "    }\n",
              "</style>\n",
              "<table border=\"1\" class=\"dataframe\">\n",
              "  <thead>\n",
              "    <tr style=\"text-align: right;\">\n",
              "      <th></th>\n",
              "      <th>Item1</th>\n",
              "      <th>Item2</th>\n",
              "      <th>Item3</th>\n",
              "      <th>Item4</th>\n",
              "    </tr>\n",
              "  </thead>\n",
              "  <tbody>\n",
              "    <tr>\n",
              "      <th>0</th>\n",
              "      <td>Samosa</td>\n",
              "      <td>Tea</td>\n",
              "      <td>Sandwich</td>\n",
              "      <td>Noodles</td>\n",
              "    </tr>\n",
              "    <tr>\n",
              "      <th>1</th>\n",
              "      <td>Samosa</td>\n",
              "      <td>Cold Coffee</td>\n",
              "      <td>French Fries</td>\n",
              "      <td>None</td>\n",
              "    </tr>\n",
              "    <tr>\n",
              "      <th>2</th>\n",
              "      <td>Pizza</td>\n",
              "      <td>Maggie</td>\n",
              "      <td>Samosa</td>\n",
              "      <td>Tea</td>\n",
              "    </tr>\n",
              "    <tr>\n",
              "      <th>3</th>\n",
              "      <td>Maggie</td>\n",
              "      <td>Cold Coffee</td>\n",
              "      <td>Sandwich</td>\n",
              "      <td>None</td>\n",
              "    </tr>\n",
              "    <tr>\n",
              "      <th>4</th>\n",
              "      <td>Samosa</td>\n",
              "      <td>Cold Coffee</td>\n",
              "      <td>French Fries</td>\n",
              "      <td>None</td>\n",
              "    </tr>\n",
              "  </tbody>\n",
              "</table>\n",
              "</div>"
            ],
            "text/plain": [
              "    Item1         Item2          Item3     Item4\n",
              "0  Samosa           Tea       Sandwich   Noodles\n",
              "1  Samosa   Cold Coffee   French Fries      None\n",
              "2   Pizza        Maggie         Samosa       Tea\n",
              "3  Maggie   Cold Coffee       Sandwich      None\n",
              "4  Samosa   Cold Coffee   French Fries      None"
            ]
          },
          "execution_count": 9,
          "metadata": {},
          "output_type": "execute_result"
        }
      ],
      "source": [
        "df.head()"
      ]
    },
    {
      "cell_type": "code",
      "execution_count": null,
      "id": "140b1ae2",
      "metadata": {
        "id": "140b1ae2"
      },
      "outputs": [],
      "source": [
        "records = []\n",
        "for i in range(19):\n",
        "    records.append([str(df.values[i,j]) for j in range(0,4)])"
      ]
    },
    {
      "cell_type": "code",
      "execution_count": null,
      "id": "7fa290dc",
      "metadata": {
        "id": "7fa290dc",
        "outputId": "ab7c6cea-632d-4977-8d1f-c3c23ef719b3"
      },
      "outputs": [
        {
          "name": "stdout",
          "output_type": "stream",
          "text": [
            "<class 'list'>\n"
          ]
        }
      ],
      "source": [
        "print(type(records))"
      ]
    },
    {
      "cell_type": "code",
      "execution_count": null,
      "id": "98be4933",
      "metadata": {
        "id": "98be4933"
      },
      "outputs": [],
      "source": [
        "#from mlxtend.preprocessing import TransactionEncoder\n",
        "from mlxtend.frequent_patterns import apriori, association_rules\n",
        "\n"
      ]
    },
    {
      "cell_type": "code",
      "execution_count": null,
      "id": "d4c3d18a",
      "metadata": {
        "id": "d4c3d18a",
        "outputId": "729772ad-05a0-46c8-cca6-50ef2766bdac"
      },
      "outputs": [
        {
          "name": "stdout",
          "output_type": "stream",
          "text": [
            "{'Sandwich', 'Samosa', 'Pizza', ' Sandwich', 'Noodles', ' Maggie', 'Black Tea', 'French Fries', ' French Fries', 'Manchurian', ' Noodles', 'Maggie', 'Tea', 'Cold Coffee', ' Cold Coffee', ' Tea', 'Fried Maggie', None}\n"
          ]
        }
      ],
      "source": [
        "items = set()\n",
        "for col in df:\n",
        "    items.update(df[col].unique())\n",
        "print(items)\n"
      ]
    },
    {
      "cell_type": "code",
      "execution_count": null,
      "id": "4d30722d",
      "metadata": {
        "id": "4d30722d"
      },
      "outputs": [],
      "source": [
        "itemset = set(items)"
      ]
    },
    {
      "cell_type": "code",
      "execution_count": null,
      "id": "d28b4887",
      "metadata": {
        "id": "d28b4887"
      },
      "outputs": [],
      "source": [
        "encoded_value = []\n",
        "for index, row in df.iterrows():\n",
        "    rowset = set(row)\n",
        "    labels = {}\n",
        "    uncommons = list(itemset- rowset)\n",
        "    commons = list(itemset.intersection(rowset))\n",
        "    for uc in uncommons:\n",
        "        labels[uc] = 0\n",
        "    for com in commons:\n",
        "        labels[com] = 1\n",
        "    encoded_value.append(labels)\n",
        "encoded_value[0]\n",
        "\n",
        "df1 = pd.DataFrame(encoded_value)"
      ]
    },
    {
      "cell_type": "code",
      "execution_count": null,
      "id": "a7e4102f",
      "metadata": {
        "id": "a7e4102f",
        "outputId": "dd9adcbd-9c52-4378-b2cf-2e3982395095"
      },
      "outputs": [
        {
          "name": "stderr",
          "output_type": "stream",
          "text": [
            "C:\\Users\\DELL\\AppData\\Local\\Programs\\Python\\Python310\\lib\\site-packages\\mlxtend\\frequent_patterns\\fpcommon.py:111: DeprecationWarning: DataFrames with non-bool types result in worse computationalperformance and their support might be discontinued in the future.Please use a DataFrame with bool type\n",
            "  warnings.warn(\n"
          ]
        }
      ],
      "source": [
        "frequent = apriori(df1, min_support = 0.2, use_colnames=True)"
      ]
    },
    {
      "cell_type": "code",
      "execution_count": null,
      "id": "8dcb8602",
      "metadata": {
        "id": "8dcb8602",
        "outputId": "aa1df1f0-1483-49ac-c678-12b24227a596"
      },
      "outputs": [
        {
          "data": {
            "text/html": [
              "<div>\n",
              "<style scoped>\n",
              "    .dataframe tbody tr th:only-of-type {\n",
              "        vertical-align: middle;\n",
              "    }\n",
              "\n",
              "    .dataframe tbody tr th {\n",
              "        vertical-align: top;\n",
              "    }\n",
              "\n",
              "    .dataframe thead th {\n",
              "        text-align: right;\n",
              "    }\n",
              "</style>\n",
              "<table border=\"1\" class=\"dataframe\">\n",
              "  <thead>\n",
              "    <tr style=\"text-align: right;\">\n",
              "      <th></th>\n",
              "      <th>support</th>\n",
              "      <th>itemsets</th>\n",
              "    </tr>\n",
              "  </thead>\n",
              "  <tbody>\n",
              "    <tr>\n",
              "      <th>0</th>\n",
              "      <td>0.315789</td>\n",
              "      <td>(Sandwich)</td>\n",
              "    </tr>\n",
              "    <tr>\n",
              "      <th>1</th>\n",
              "      <td>0.210526</td>\n",
              "      <td>(Noodles)</td>\n",
              "    </tr>\n",
              "    <tr>\n",
              "      <th>2</th>\n",
              "      <td>0.421053</td>\n",
              "      <td>(Black Tea)</td>\n",
              "    </tr>\n",
              "    <tr>\n",
              "      <th>3</th>\n",
              "      <td>0.210526</td>\n",
              "      <td>(Maggie)</td>\n",
              "    </tr>\n",
              "    <tr>\n",
              "      <th>4</th>\n",
              "      <td>0.315789</td>\n",
              "      <td>(Fried Maggie)</td>\n",
              "    </tr>\n",
              "    <tr>\n",
              "      <th>5</th>\n",
              "      <td>0.315789</td>\n",
              "      <td>(Cold Coffee)</td>\n",
              "    </tr>\n",
              "    <tr>\n",
              "      <th>6</th>\n",
              "      <td>0.631579</td>\n",
              "      <td>(None)</td>\n",
              "    </tr>\n",
              "  </tbody>\n",
              "</table>\n",
              "</div>"
            ],
            "text/plain": [
              "    support        itemsets\n",
              "0  0.315789      (Sandwich)\n",
              "1  0.210526       (Noodles)\n",
              "2  0.421053     (Black Tea)\n",
              "3  0.210526        (Maggie)\n",
              "4  0.315789  (Fried Maggie)\n",
              "5  0.315789   (Cold Coffee)\n",
              "6  0.631579          (None)"
            ]
          },
          "execution_count": 17,
          "metadata": {},
          "output_type": "execute_result"
        }
      ],
      "source": [
        "frequent.head(7)"
      ]
    },
    {
      "cell_type": "code",
      "execution_count": null,
      "id": "1baa6b87",
      "metadata": {
        "id": "1baa6b87"
      },
      "outputs": [],
      "source": [
        "rules = association_rules(frequent, metric= 'confidence', min_threshold = 0.6)"
      ]
    },
    {
      "cell_type": "code",
      "execution_count": null,
      "id": "e4e63b04",
      "metadata": {
        "id": "e4e63b04",
        "outputId": "40d9f79d-7dfb-42f5-9a15-ff6aa7a38b6d"
      },
      "outputs": [
        {
          "data": {
            "text/html": [
              "<div>\n",
              "<style scoped>\n",
              "    .dataframe tbody tr th:only-of-type {\n",
              "        vertical-align: middle;\n",
              "    }\n",
              "\n",
              "    .dataframe tbody tr th {\n",
              "        vertical-align: top;\n",
              "    }\n",
              "\n",
              "    .dataframe thead th {\n",
              "        text-align: right;\n",
              "    }\n",
              "</style>\n",
              "<table border=\"1\" class=\"dataframe\">\n",
              "  <thead>\n",
              "    <tr style=\"text-align: right;\">\n",
              "      <th></th>\n",
              "      <th>antecedents</th>\n",
              "      <th>consequents</th>\n",
              "      <th>antecedent support</th>\n",
              "      <th>consequent support</th>\n",
              "      <th>support</th>\n",
              "      <th>confidence</th>\n",
              "      <th>lift</th>\n",
              "      <th>leverage</th>\n",
              "      <th>conviction</th>\n",
              "    </tr>\n",
              "  </thead>\n",
              "  <tbody>\n",
              "    <tr>\n",
              "      <th>0</th>\n",
              "      <td>(Fried Maggie)</td>\n",
              "      <td>(Black Tea)</td>\n",
              "      <td>0.315789</td>\n",
              "      <td>0.421053</td>\n",
              "      <td>0.210526</td>\n",
              "      <td>0.666667</td>\n",
              "      <td>1.583333</td>\n",
              "      <td>0.077562</td>\n",
              "      <td>1.736842</td>\n",
              "    </tr>\n",
              "    <tr>\n",
              "      <th>1</th>\n",
              "      <td>(Black Tea)</td>\n",
              "      <td>(None)</td>\n",
              "      <td>0.421053</td>\n",
              "      <td>0.631579</td>\n",
              "      <td>0.263158</td>\n",
              "      <td>0.625000</td>\n",
              "      <td>0.989583</td>\n",
              "      <td>-0.002770</td>\n",
              "      <td>0.982456</td>\n",
              "    </tr>\n",
              "    <tr>\n",
              "      <th>2</th>\n",
              "      <td>(Maggie)</td>\n",
              "      <td>(Cold Coffee)</td>\n",
              "      <td>0.210526</td>\n",
              "      <td>0.315789</td>\n",
              "      <td>0.210526</td>\n",
              "      <td>1.000000</td>\n",
              "      <td>3.166667</td>\n",
              "      <td>0.144044</td>\n",
              "      <td>inf</td>\n",
              "    </tr>\n",
              "    <tr>\n",
              "      <th>3</th>\n",
              "      <td>(Cold Coffee)</td>\n",
              "      <td>(Maggie)</td>\n",
              "      <td>0.315789</td>\n",
              "      <td>0.210526</td>\n",
              "      <td>0.210526</td>\n",
              "      <td>0.666667</td>\n",
              "      <td>3.166667</td>\n",
              "      <td>0.144044</td>\n",
              "      <td>2.368421</td>\n",
              "    </tr>\n",
              "    <tr>\n",
              "      <th>4</th>\n",
              "      <td>(Fried Maggie)</td>\n",
              "      <td>(None)</td>\n",
              "      <td>0.315789</td>\n",
              "      <td>0.631579</td>\n",
              "      <td>0.315789</td>\n",
              "      <td>1.000000</td>\n",
              "      <td>1.583333</td>\n",
              "      <td>0.116343</td>\n",
              "      <td>inf</td>\n",
              "    </tr>\n",
              "  </tbody>\n",
              "</table>\n",
              "</div>"
            ],
            "text/plain": [
              "      antecedents    consequents  antecedent support  consequent support  \\\n",
              "0  (Fried Maggie)    (Black Tea)            0.315789            0.421053   \n",
              "1     (Black Tea)         (None)            0.421053            0.631579   \n",
              "2        (Maggie)  (Cold Coffee)            0.210526            0.315789   \n",
              "3   (Cold Coffee)       (Maggie)            0.315789            0.210526   \n",
              "4  (Fried Maggie)         (None)            0.315789            0.631579   \n",
              "\n",
              "    support  confidence      lift  leverage  conviction  \n",
              "0  0.210526    0.666667  1.583333  0.077562    1.736842  \n",
              "1  0.263158    0.625000  0.989583 -0.002770    0.982456  \n",
              "2  0.210526    1.000000  3.166667  0.144044         inf  \n",
              "3  0.210526    0.666667  3.166667  0.144044    2.368421  \n",
              "4  0.315789    1.000000  1.583333  0.116343         inf  "
            ]
          },
          "execution_count": 19,
          "metadata": {},
          "output_type": "execute_result"
        }
      ],
      "source": [
        "rules.head()"
      ]
    },
    {
      "cell_type": "code",
      "execution_count": null,
      "id": "85823d2b",
      "metadata": {
        "id": "85823d2b"
      },
      "outputs": [],
      "source": []
    }
  ],
  "metadata": {
    "kernelspec": {
      "display_name": "Python 3 (ipykernel)",
      "language": "python",
      "name": "python3"
    },
    "language_info": {
      "codemirror_mode": {
        "name": "ipython",
        "version": 3
      },
      "file_extension": ".py",
      "mimetype": "text/x-python",
      "name": "python",
      "nbconvert_exporter": "python",
      "pygments_lexer": "ipython3",
      "version": "3.10.7"
    },
    "colab": {
      "provenance": []
    }
  },
  "nbformat": 4,
  "nbformat_minor": 5
}