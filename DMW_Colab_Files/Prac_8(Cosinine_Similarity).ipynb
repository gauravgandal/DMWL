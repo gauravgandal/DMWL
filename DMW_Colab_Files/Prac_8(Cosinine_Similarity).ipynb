{
  "cells": [
    {
      "cell_type": "code",
      "execution_count": null,
      "id": "bc82e667",
      "metadata": {
        "id": "bc82e667",
        "outputId": "1d1c0622-8b01-4209-8202-6522f7645e58"
      },
      "outputs": [
        {
          "name": "stdout",
          "output_type": "stream",
          "text": [
            "Enter the numbers in the vector :4\n",
            "Enter the elements of the first vector\n",
            "3\n",
            "2\n",
            "7\n",
            "5\n",
            "Enter the elements of the first vector\n",
            "9\n",
            "3\n",
            "2\n",
            "5\n"
          ]
        }
      ],
      "source": [
        "n = int(input('Enter the numbers in the vector :'))\n",
        "\n",
        "#creating vectors\n",
        "vect1 = []\n",
        "vect2 = []\n",
        "\n",
        "print('Enter the elements of the first vector')\n",
        "for i in range(n):\n",
        "    inp = int(input())\n",
        "    vect1.append(inp)\n",
        "    \n",
        "print('Enter the elements of the first vector')\n",
        "for i in range(n):\n",
        "    inp1 = int(input())\n",
        "    vect2.append(inp1)"
      ]
    },
    {
      "cell_type": "code",
      "execution_count": null,
      "id": "070d6ea9",
      "metadata": {
        "id": "070d6ea9"
      },
      "outputs": [],
      "source": [
        "from math import*\n",
        "\n",
        "def euclidean_dist(x,y):\n",
        "    return sqrt(sum(pow(a-b, 2) for a,b in zip(x,y)))\n",
        "\n",
        "def manhatten_dist(x,y):\n",
        "    return sum(abs(a-b) for a, b in zip(x,y))\n",
        "\n",
        "from decimal import Decimal\n",
        "\n",
        "def nth_value(value , n_root):\n",
        "    root_value = 1/float(n_root)\n",
        "    return round(Decimal(value)**Decimal(root_value) , 3)\n",
        "\n",
        "def minkowski_dist(x,y,p_value):\n",
        "    return nth_value(sum(pow(abs(a-b),p_value) for a,b in zip(x,y)), p_value)"
      ]
    },
    {
      "cell_type": "code",
      "execution_count": null,
      "id": "09bf8901",
      "metadata": {
        "id": "09bf8901",
        "outputId": "98b4762b-ee99-4ac8-dec0-30d7c6423310"
      },
      "outputs": [
        {
          "name": "stdout",
          "output_type": "stream",
          "text": [
            "Euclidean Distance 7.874007874011811\n"
          ]
        }
      ],
      "source": [
        "print('Euclidean Distance', euclidean_dist(vect1,vect2))"
      ]
    },
    {
      "cell_type": "code",
      "execution_count": null,
      "id": "3fb8fbe6",
      "metadata": {
        "id": "3fb8fbe6",
        "outputId": "2bfd081f-ec6b-4e93-cbd5-d816f5852662"
      },
      "outputs": [
        {
          "name": "stdout",
          "output_type": "stream",
          "text": [
            "manhattan Distance 12\n"
          ]
        }
      ],
      "source": [
        "print('manhattan Distance', manhatten_dist(vect1,vect2))"
      ]
    },
    {
      "cell_type": "code",
      "execution_count": null,
      "id": "932a054f",
      "metadata": {
        "id": "932a054f",
        "outputId": "88ab9d05-e692-4387-9143-58de0e617373"
      },
      "outputs": [
        {
          "name": "stdout",
          "output_type": "stream",
          "text": [
            "minkowski Distance 6.993\n"
          ]
        }
      ],
      "source": [
        "print('minkowski Distance', minkowski_dist(vect1,vect2,3))"
      ]
    },
    {
      "cell_type": "code",
      "execution_count": null,
      "id": "8054e2ec",
      "metadata": {
        "id": "8054e2ec",
        "outputId": "9608b237-ffd3-42af-eb4b-30d428c7ca78"
      },
      "outputs": [
        {
          "name": "stdout",
          "output_type": "stream",
          "text": [
            "Enter the numbers in the vector :4\n",
            "Enter the elements of the first vector\n",
            "2\n",
            "3\n",
            "2\n",
            "4\n",
            "Enter the elements of the first vector\n",
            "5\n",
            "3\n",
            "4\n",
            "1\n",
            "A: [2, 3, 2, 4]\n",
            "B: [5, 3, 4, 1]\n"
          ]
        }
      ],
      "source": [
        "import numpy as np\n",
        "from sklearn.metrics.pairwise import cosine_similarity\n",
        "\n",
        "n = int(input('Enter the numbers in the vector :'))\n",
        "\n",
        "#creating vectors\n",
        "vect1 = []\n",
        "vect2 = []\n",
        "\n",
        "print('Enter the elements of the first vector')\n",
        "for i in range(n):\n",
        "    inp = int(input())\n",
        "    vect1.append(inp)\n",
        "    \n",
        "print('Enter the elements of the first vector')\n",
        "for i in range(n):\n",
        "    inp1 = int(input())\n",
        "    vect2.append(inp1)\n",
        "\n",
        "print(\"A:\", vect1)\n",
        "print(\"B:\", vect2)\n"
      ]
    },
    {
      "cell_type": "code",
      "execution_count": null,
      "id": "812daef7",
      "metadata": {
        "id": "812daef7"
      },
      "outputs": [],
      "source": [
        "from numpy.linalg import norm"
      ]
    },
    {
      "cell_type": "code",
      "execution_count": null,
      "id": "f4f77ec3",
      "metadata": {
        "id": "f4f77ec3",
        "outputId": "12fdd405-b096-4590-a0a0-6ffd9218eb9b"
      },
      "outputs": [
        {
          "name": "stdout",
          "output_type": "stream",
          "text": [
            "Cosine Similarity : 0.755648171598035\n"
          ]
        }
      ],
      "source": [
        "cosine = np.dot(vect1,vect2)/ (norm(vect1)*norm(vect2))\n",
        "print(\"Cosine Similarity :\", cosine)"
      ]
    },
    {
      "cell_type": "code",
      "execution_count": null,
      "id": "663d9cdf",
      "metadata": {
        "id": "663d9cdf"
      },
      "outputs": [],
      "source": []
    }
  ],
  "metadata": {
    "kernelspec": {
      "display_name": "Python 3 (ipykernel)",
      "language": "python",
      "name": "python3"
    },
    "language_info": {
      "codemirror_mode": {
        "name": "ipython",
        "version": 3
      },
      "file_extension": ".py",
      "mimetype": "text/x-python",
      "name": "python",
      "nbconvert_exporter": "python",
      "pygments_lexer": "ipython3",
      "version": "3.10.7"
    },
    "colab": {
      "provenance": []
    }
  },
  "nbformat": 4,
  "nbformat_minor": 5
}