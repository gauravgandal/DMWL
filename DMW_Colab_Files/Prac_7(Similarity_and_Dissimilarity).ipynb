{
  "nbformat": 4,
  "nbformat_minor": 0,
  "metadata": {
    "colab": {
      "provenance": []
    },
    "kernelspec": {
      "name": "python3",
      "display_name": "Python 3"
    },
    "language_info": {
      "name": "python"
    }
  },
  "cells": [
    {
      "cell_type": "code",
      "execution_count": 1,
      "metadata": {
        "id": "MwVSG__EHaHx"
      },
      "outputs": [],
      "source": [
        "from math import*\n",
        " \n",
        "def manhattan_distance(x,y):\n",
        " \n",
        "    return sum(abs(a-b) for a,b in zip(x,y))"
      ]
    },
    {
      "cell_type": "code",
      "source": [
        "\n",
        "\n",
        "#euclidean distance \n",
        "from math import*\n",
        " \n",
        "def euclidean_distance(x,y):\n",
        " \n",
        "    return sqrt(sum(pow(a-b,2) for a, b in zip(x, y)))\n",
        "     \n"
      ],
      "metadata": {
        "id": "tGY80FKyHc7l"
      },
      "execution_count": 2,
      "outputs": []
    },
    {
      "cell_type": "code",
      "source": [
        "\n",
        "\n",
        "print(euclidean_distance([0,3,4,5],[7,6,3,-1]))\n",
        "     \n"
      ],
      "metadata": {
        "colab": {
          "base_uri": "https://localhost:8080/"
        },
        "id": "Xa1h5bx0Hvpi",
        "outputId": "4e1003ef-d8b5-400b-98f8-9562ffebfb69"
      },
      "execution_count": 3,
      "outputs": [
        {
          "output_type": "stream",
          "name": "stdout",
          "text": [
            "9.746794344808963\n"
          ]
        }
      ]
    },
    {
      "cell_type": "code",
      "source": [
        "\n",
        "\n",
        "print(manhattan_distance([10,20,10],[10,20,20]))\n",
        "     \n"
      ],
      "metadata": {
        "colab": {
          "base_uri": "https://localhost:8080/"
        },
        "id": "8tvFaZ_AHyQ4",
        "outputId": "0abe0f28-7e3c-40b1-9c25-4aa867a4b330"
      },
      "execution_count": 4,
      "outputs": [
        {
          "output_type": "stream",
          "name": "stdout",
          "text": [
            "10\n"
          ]
        }
      ]
    },
    {
      "cell_type": "code",
      "source": [
        "from math import*\n",
        "from decimal import Decimal\n",
        " \n",
        "def nth_root(value, n_root):\n",
        " \n",
        "    root_value = 1/float(n_root)\n",
        "    return round (Decimal(value) ** Decimal(root_value),3)\n",
        " \n",
        "def minkowski_distance(x,y,p_value):\n",
        " \n",
        "    return nth_root(sum(pow(abs(a-b),p_value) for a,b in zip(x, y)),p_value)"
      ],
      "metadata": {
        "id": "ebusXBVZH0JV"
      },
      "execution_count": 5,
      "outputs": []
    },
    {
      "cell_type": "code",
      "source": [
        "\n",
        "\n",
        "print (minkowski_distance([0,3,4,5],[7,6,3,-1],3))\n",
        "     \n"
      ],
      "metadata": {
        "colab": {
          "base_uri": "https://localhost:8080/"
        },
        "id": "uAsH5qh3H2it",
        "outputId": "3716ab98-0a2b-4c2b-f446-05f55cade4c6"
      },
      "execution_count": 6,
      "outputs": [
        {
          "output_type": "stream",
          "name": "stdout",
          "text": [
            "8.373\n"
          ]
        }
      ]
    },
    {
      "cell_type": "code",
      "source": [
        "\n",
        "\n",
        "from math import*\n",
        " \n",
        "def square_rooted(x):\n",
        " \n",
        "    return round(sqrt(sum([a*a for a in x])),3)\n",
        " \n",
        "def cosine_similarity(x,y):\n",
        "    numerator = sum(a*b for a,b in zip(x,y))\n",
        "    denominator = square_rooted(x)*square_rooted(y)\n",
        "    return round(numerator/float(denominator),3)\n",
        "     \n"
      ],
      "metadata": {
        "id": "v8_kYWWvIDrb"
      },
      "execution_count": 7,
      "outputs": []
    },
    {
      "cell_type": "code",
      "source": [
        "print(cosine_similarity([3, 45, 7, 2], [2, 54, 13, 15]))"
      ],
      "metadata": {
        "colab": {
          "base_uri": "https://localhost:8080/"
        },
        "id": "p_9-OQmBIFXl",
        "outputId": "b114eb20-8a1b-41a0-fb69-4d0420472b10"
      },
      "execution_count": 8,
      "outputs": [
        {
          "output_type": "stream",
          "name": "stdout",
          "text": [
            "0.972\n"
          ]
        }
      ]
    },
    {
      "cell_type": "code",
      "source": [],
      "metadata": {
        "id": "sDLLIMKFIOxS"
      },
      "execution_count": null,
      "outputs": []
    }
  ]
}